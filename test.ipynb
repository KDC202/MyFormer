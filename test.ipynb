{
 "cells": [
  {
   "cell_type": "code",
   "execution_count": 1,
   "metadata": {},
   "outputs": [
    {
     "name": "stdout",
     "output_type": "stream",
     "text": [
      "Number of available GPUs: 2\n",
      "GPU 0: NVIDIA GeForce RTX 2080 Ti\n",
      "    Total memory: 10.75 GB\n",
      "    Allocated memory: 0.00 GB\n",
      "    Cached memory: 0.00 GB\n",
      "\n",
      "GPU 1: NVIDIA GeForce RTX 2080 Ti\n",
      "    Total memory: 10.75 GB\n",
      "    Allocated memory: 0.00 GB\n",
      "    Cached memory: 0.00 GB\n",
      "\n"
     ]
    }
   ],
   "source": [
    "import torch\n",
    "\n",
    "# 检查CUDA是否可用\n",
    "if torch.cuda.is_available():\n",
    "    # 获取GPU数量\n",
    "    gpu_count = torch.cuda.device_count()\n",
    "    print(\"Number of available GPUs:\", gpu_count)\n",
    "    \n",
    "    # 获取每个GPU的名称和使用情况\n",
    "    for i in range(gpu_count):\n",
    "        gpu_name = torch.cuda.get_device_name(i)\n",
    "        gpu_memory = torch.cuda.get_device_properties(i).total_memory / 1024**3  # 获取总显存，单位为GB\n",
    "        gpu_memory_allocated = torch.cuda.memory_allocated(i) / 1024**3  # 获取当前已分配的显存，单位为GB\n",
    "        gpu_memory_cached = torch.cuda.memory_reserved(i) / 1024**3  # 获取当前缓存的显存，单位为GB\n",
    "        \n",
    "        print(f\"GPU {i}: {gpu_name}\")\n",
    "        print(f\"    Total memory: {gpu_memory:.2f} GB\")\n",
    "        print(f\"    Allocated memory: {gpu_memory_allocated:.2f} GB\")\n",
    "        print(f\"    Cached memory: {gpu_memory_cached:.2f} GB\\n\")\n",
    "else:\n",
    "    print(\"CUDA is not available.\")\n"
   ]
  },
  {
   "cell_type": "code",
   "execution_count": 4,
   "metadata": {},
   "outputs": [
    {
     "name": "stdout",
     "output_type": "stream",
     "text": [
      "Using gpu 0 1\n"
     ]
    }
   ],
   "source": [
    "device_list = list(map(int,(0,1)))\n",
    "print(\"Using gpu\",\" \".join([str(v) for v in device_list]))\n",
    "device = device_list[0]"
   ]
  }
 ],
 "metadata": {
  "kernelspec": {
   "display_name": "sfy",
   "language": "python",
   "name": "python3"
  },
  "language_info": {
   "codemirror_mode": {
    "name": "ipython",
    "version": 3
   },
   "file_extension": ".py",
   "mimetype": "text/x-python",
   "name": "python",
   "nbconvert_exporter": "python",
   "pygments_lexer": "ipython3",
   "version": "3.8.18"
  }
 },
 "nbformat": 4,
 "nbformat_minor": 2
}
